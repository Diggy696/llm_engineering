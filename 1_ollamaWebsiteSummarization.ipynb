{
 "cells": [
  {
   "cell_type": "markdown",
   "metadata": {},
   "source": [
    "# Website Summarizer using Ollama locally\n",
    "\n",
    "Building a website summarizer that uses Llama 3.2 running locally on my machine\n",
    "Created: 3/11/2025"
   ]
  },
  {
   "cell_type": "code",
   "execution_count": 1,
   "metadata": {},
   "outputs": [],
   "source": [
    "import ollama\n",
    "import requests\n",
    "from bs4 import BeautifulSoup\n",
    "from IPython.display import Markdown, display\n",
    "# Constants\n",
    "OLLAMA_API = \"http://localhost:11434/api/chat\" #url on local box\n",
    "HEADERS = {\"Content-Type\": \"application/json\"}\n",
    "MODEL = \"llama3.2\""
   ]
  },
  {
   "cell_type": "code",
   "execution_count": 2,
   "metadata": {},
   "outputs": [],
   "source": [
    "system_prompt = \"You are an assistant that analyzes the contents of a website \\\n",
    "and provides a short summary, ignoring text that might be navigation related. \\\n",
    "Respond in markdown.\""
   ]
  },
  {
   "cell_type": "code",
   "execution_count": 3,
   "metadata": {},
   "outputs": [],
   "source": [
    "# Some websites need you to use proper headers when fetching them:\n",
    "headers = {\n",
    " \"User-Agent\": \"Mozilla/5.0 (Windows NT 10.0; Win64; x64) AppleWebKit/537.36 (KHTML, like Gecko) Chrome/117.0.0.0 Safari/537.36\"\n",
    "}\n",
    "\n",
    "class Website:\n",
    "\n",
    "    def __init__(self, url):\n",
    "        \"\"\"\n",
    "        Create this Website object from the given url using the BeautifulSoup library\n",
    "        \"\"\"\n",
    "        self.url = url\n",
    "        response = requests.get(url, headers=headers)\n",
    "        soup = BeautifulSoup(response.content, 'html.parser')\n",
    "        self.title = soup.title.string if soup.title else \"No title found\"\n",
    "        for irrelevant in soup.body([\"script\", \"style\", \"img\", \"input\"]):\n",
    "            irrelevant.decompose()\n",
    "        self.text = soup.body.get_text(separator=\"\\n\", strip=True)\n",
    "\n",
    "ourwebsite = Website(\"https://espn.com\")"
   ]
  },
  {
   "cell_type": "code",
   "execution_count": 4,
   "metadata": {},
   "outputs": [],
   "source": [
    "# A function that writes a User Prompt that asks for summaries of websites:\n",
    "\n",
    "def user_prompt_for(ourwebsite):\n",
    "    user_prompt = f\"You are looking at a website titled {ourwebsite.title}\"\n",
    "    user_prompt += \"\\nThe contents of this website is as follows; \\\n",
    "    please provide a short summary of this website in markdown. \\\n",
    "    If it includes news or announcements, then summarize these too.\\n\\n\"\n",
    "    user_prompt += ourwebsite.text\n",
    "    return user_prompt"
   ]
  },
  {
   "cell_type": "code",
   "execution_count": 5,
   "metadata": {},
   "outputs": [],
   "source": [
    "def messages_for(ourwebsite):\n",
    "    return [\n",
    "        {\"role\": \"system\", \"content\": system_prompt},\n",
    "        {\"role\": \"user\", \"content\": user_prompt_for(ourwebsite)}\n",
    "    ]"
   ]
  },
  {
   "cell_type": "code",
   "execution_count": 6,
   "metadata": {},
   "outputs": [
    {
     "data": {
      "text/plain": [
       "\"It appears that the main section of the page is dedicated to various sports news and updates from around the world. Here are some of the top headlines and sections:\\n\\n**Sports News**\\n\\n* Jones joins Colts, to battle Richardson for QB job\\n* Sources: Texans acquire Eagles' Gardner-Johnson\\n* Vikings add Allen, Fries to strengthen both lines\\n* 49ers' purge continues with release of DE Floyd\\n* Cowboys, Turpin agree to 3-year deal\\n\\n**Fantasy Football**\\n\\n* Reactivate A League\\n* Create A League\\n* Join a Public League\\n* Practice With a Mock Draft\\n\\n**NBA News**\\n\\n* Baron Davis found his voice as rapper Bart Oatmeal (feature article)\\n* Kevin Durant has to be separated from Cam Spencer, Desmond Bane (video clip)\\n\\n**Hockey News**\\n\\n* NHL trade grades: Report cards for the biggest deals of 2025 (article)\\n* Ovechkin career goal record chase: Tracker, highlights, more (tracker and video)\\n\\n**Baseball News**\\n\\n* How A's, Rays moving to minor league ballparks means for MLB (feature article)\\n* Sign up to play the #1 Fantasy Baseball Game\\n\\n**Other Sections**\\n\\n* ESPN+, a streaming service that offers various sports content\\n* NFL Free Agency, Men's Bracketology, Women's Bracketology, and other sports-related sections\\n* Tournament Challenge, Unrivaled 3-on-3, and other fantasy sports-related sections\\n* ESPN Radio: Listen Live, for live sports radio coverage\\n\\nOverall, the page appears to be a comprehensive sports news site with various sections covering different sports and interests.\""
      ]
     },
     "execution_count": 6,
     "metadata": {},
     "output_type": "execute_result"
    }
   ],
   "source": [
    "def summarize(url):\n",
    "    website = Website(url)\n",
    "    response = ollama.chat(\n",
    "        model = MODEL,\n",
    "        messages = messages_for(website)\n",
    "    )\n",
    "    return response['message']['content']\n",
    "\n",
    "# Step 4: print the result\n",
    "summarize(\"https://espn.com\")"
   ]
  },
  {
   "cell_type": "code",
   "execution_count": 7,
   "metadata": {},
   "outputs": [],
   "source": [
    "# A function to display this nicely in the Jupyter output, using markdown\n",
    "\n",
    "def display_summary(url):\n",
    "    summary = summarize(url)\n",
    "    display(Markdown(summary))"
   ]
  },
  {
   "cell_type": "code",
   "execution_count": 8,
   "metadata": {},
   "outputs": [
    {
     "data": {
      "text/markdown": [
       "There are many news articles and updates on various sports and entertainment topics in the provided text. Here's a summary of some of the key headlines:\n",
       "\n",
       "**NFL**\n",
       "\n",
       "* Jones joins Colts to battle Richardson for QB job\n",
       "* Sources: Texans acquire Eagles' Gardner-Johnson\n",
       "* Vikings add Allen, Fries to strengthen both lines\n",
       "* 49ers' purge continues with release of DE Floyd\n",
       "\n",
       "**NBA**\n",
       "\n",
       "* NBA intel: Scouts, execs on Lakers', Warriors', Mavs' next steps\n",
       "* Coach changes affect production on offense and defense (Florida State)\n",
       "\n",
       "**Hockey**\n",
       "\n",
       "* NHL trade grades: Report cards for the biggest deals of 2025\n",
       "* Ovechkin career goal record chase: Tracker, highlights, more\n",
       "\n",
       "**Baseball**\n",
       "\n",
       "* A's, Rays moving to minor league ballparks means for MLB\n",
       "* How to watch ESPN+ on Disney+: Frequently asked questions\n",
       "\n",
       "**Football**\n",
       "\n",
       "* Fantasy Football Home\n",
       "* NFL Free Agency\n",
       "* Men's Bracketology\n",
       "* Women's Bracketology\n",
       "* NFL Draft\n",
       "* Men's Tournament Challenge\n",
       "* Women's Tournament Challenge\n",
       "\n",
       "**Other Sports**\n",
       "\n",
       "* Unrivaled 3-on-3\n",
       "* X Games\n",
       "* SEC Network\n",
       "\n",
       "**Entertainment**\n",
       "\n",
       "* How Baron Davis found his voice as rapper Bart Oatmeal (Baron Davis)\n",
       "* Kevin Durant has to be separated from Cam Spencer, Desmond Bane (NBA game)\n",
       "\n",
       "You can find more news and updates on these topics by visiting the ESPN website or checking out their social media channels."
      ],
      "text/plain": [
       "<IPython.core.display.Markdown object>"
      ]
     },
     "metadata": {},
     "output_type": "display_data"
    }
   ],
   "source": [
    "display_summary(\"https://espn.com\")"
   ]
  },
  {
   "cell_type": "markdown",
   "metadata": {},
   "source": [
    "# Would need to use Selenium for some pages like openai.com in order to scrape"
   ]
  }
 ],
 "metadata": {
  "kernelspec": {
   "display_name": "llms",
   "language": "python",
   "name": "llms"
  },
  "language_info": {
   "codemirror_mode": {
    "name": "ipython",
    "version": 3
   },
   "file_extension": ".py",
   "mimetype": "text/x-python",
   "name": "python",
   "nbconvert_exporter": "python",
   "pygments_lexer": "ipython3",
   "version": "3.12.9"
  }
 },
 "nbformat": 4,
 "nbformat_minor": 2
}
