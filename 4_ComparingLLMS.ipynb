{
 "cells": [
  {
   "cell_type": "markdown",
   "id": "c9ab3392",
   "metadata": {},
   "source": [
    "## Compare LLMS ##\n",
    "\n",
    "Parameters, Context, Pricing and then look at Benchmarks, Leaderboards, and Arenas\n",
    "\n",
    "<u>Benchmarks:</u>\n",
    "\n",
    "ARC (Reasoning): A benchmark for evaluating scientific reasoning, like multiple choice reasoning\n",
    "\n",
    "DROP (Language Comp): Distill details form text\n",
    "\n",
    "HellaSwag (Common Sense): Harder endings, long contexts and low shot activities\n",
    "\n",
    "MMLU (Understanding):Factual recall, reasoning and problem solving\n",
    "\n",
    "TruthfulQA (Accuracy): Robustness in providing truthful replies\n",
    "\n",
    "Winogrande (Context): Can LLM resolve ambiguity\n",
    "\n",
    "GSM8K (Math)\n",
    "\n",
    "<u>In faceoffs:</u>\n",
    "\n",
    "ELO rating (Chat): Results from head-to-head face-offs with other LLMs\n",
    "\n",
    "HumanEval (Python Coding): 164 problems writing codes based on docstrings\n",
    "\n",
    "Multipl-E (Broader Coding): Translation of human eval to 18 programming languages\n",
    "\n",
    "<u> Next Level Benchmarks:</u>\n",
    "\n",
    "GPQA: Resistant to googling, 448 specialist PhD level questions.  34% is score, even with google\n",
    "\n",
    "BBHard: 204 tasks believed to be beyond LLM capabilities\n",
    "\n",
    "Math Lv 5: High school level math competition questions\n",
    "\n",
    "IFEval: Difficult instructions to be followed, i.e. Write more than 400 words and mention AI 3x\n",
    "\n",
    "MuSR: Tests logical deduction, 1000 word murder mysteries and LLM is asked who has means, motive and opportunity\n",
    "\n",
    "MMLU-Pro: Harder MMLU test\n",
    "\n"
   ]
  },
  {
   "cell_type": "markdown",
   "id": "77f20610",
   "metadata": {},
   "source": [
    "### Key Leaderboard for Open LLM leaderboard ###\n",
    "\n",
    "Old:\n",
    "https://huggingface.co/spaces/open-llm-leaderboard-old/open_llm_leaderboard\n",
    "\n",
    "New:\n",
    "https://huggingface.co/spaces/open-llm-leaderboard/open_llm_leaderboard"
   ]
  }
 ],
 "metadata": {
  "language_info": {
   "name": "python"
  }
 },
 "nbformat": 4,
 "nbformat_minor": 5
}
