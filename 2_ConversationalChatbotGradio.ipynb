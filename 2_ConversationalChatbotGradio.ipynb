{
 "cells": [
  {
   "cell_type": "code",
   "execution_count": 4,
   "metadata": {},
   "outputs": [],
   "source": [
    "# imports\n",
    "\n",
    "import os\n",
    "from dotenv import load_dotenv\n",
    "from openai import OpenAI\n",
    "import gradio as gr\n",
    "\n",
    "#Loads environment variables in hidden .env file\n",
    "load_dotenv()\n",
    "openai_api_key = os.getenv('OPENAI_API_KEY') #OPENAI_API_KEY is in Path variable on local machine\n",
    "os.environ['ANTHROPIC_API_KEY'] = os.getenv('ANTHROPIC_API_KEY')\n",
    "os.environ['GOOGLE_API_KEY'] = os.getenv('GOOGLE_API_KEY')\n",
    "\n",
    "#initialize\n",
    "openai = OpenAI()\n",
    "MODEL = 'gpt-4o-mini'"
   ]
  },
  {
   "cell_type": "code",
   "execution_count": 5,
   "metadata": {},
   "outputs": [],
   "source": [
    "system_message = \"You are a helpful assistant.  Please be as kind as possible when you respond and be as succinct as possible.\"\n",
    "\n",
    "# this function is what is expected for gradio chat interfaces, need lists of messages \n",
    "def chat(message,history):\n",
    "    messages = [{\"role\":\"system\",\"content\":system_message}]\n",
    "    for user_message, assistant_message in history:\n",
    "        messages.append({\"role\":\"user\",\"content\":user_message})\n",
    "        messages.append({\"role\":\"assistant\",\"content\":assistant_message})\n",
    "    messages.append({\"role\":\"user\",\"content\":message})\n",
    "    \n",
    "    print(\"History is:\")\n",
    "    print(history)\n",
    "    print(\"and messages is:\")\n",
    "    print(messages)\n",
    "    \n",
    "    stream = openai.chat.completions.create(model=MODEL,messages=messages, stream=True)\n",
    "    \n",
    "    response = \"\" \n",
    "    for chunk in stream:\n",
    "        response += chunk.choices[0].delta.content or ''\n",
    "        yield response\n",
    "        "
   ]
  },
  {
   "cell_type": "code",
   "execution_count": 6,
   "metadata": {},
   "outputs": [
    {
     "name": "stderr",
     "output_type": "stream",
     "text": [
      "c:\\Python\\llm_engineering\\llms\\Lib\\site-packages\\gradio\\chat_interface.py:334: UserWarning: The 'tuples' format for chatbot messages is deprecated and will be removed in a future version of Gradio. Please set type='messages' instead, which uses openai-style 'role' and 'content' keys.\n",
      "  self.chatbot = Chatbot(\n"
     ]
    },
    {
     "name": "stdout",
     "output_type": "stream",
     "text": [
      "* Running on local URL:  http://127.0.0.1:7870\n",
      "\n",
      "To create a public link, set `share=True` in `launch()`.\n"
     ]
    },
    {
     "data": {
      "text/html": [
       "<div><iframe src=\"http://127.0.0.1:7870/\" width=\"100%\" height=\"500\" allow=\"autoplay; camera; microphone; clipboard-read; clipboard-write;\" frameborder=\"0\" allowfullscreen></iframe></div>"
      ],
      "text/plain": [
       "<IPython.core.display.HTML object>"
      ]
     },
     "metadata": {},
     "output_type": "display_data"
    },
    {
     "data": {
      "text/plain": []
     },
     "execution_count": 6,
     "metadata": {},
     "output_type": "execute_result"
    },
    {
     "name": "stdout",
     "output_type": "stream",
     "text": [
      "History is:\n",
      "[]\n",
      "and messages is:\n",
      "[{'role': 'system', 'content': 'You are a helpful assistant.  Please be as kind as possible when you respond and be as succinct as possible.'}, {'role': 'user', 'content': 'Hi there'}]\n",
      "History is:\n",
      "[]\n",
      "and messages is:\n",
      "[{'role': 'system', 'content': 'You are a helpful assistant.  Please be as kind as possible when you respond and be as succinct as possible.'}, {'role': 'user', 'content': 'Hi there'}]\n",
      "History is:\n",
      "[['Hi there', 'Hello! How can I assist you today?']]\n",
      "and messages is:\n",
      "[{'role': 'system', 'content': 'You are a helpful assistant.  Please be as kind as possible when you respond and be as succinct as possible.'}, {'role': 'user', 'content': 'Hi there'}, {'role': 'assistant', 'content': 'Hello! How can I assist you today?'}, {'role': 'user', 'content': 'I want to buy an electric car'}]\n",
      "History is:\n",
      "[['Hi there', 'Hello! How can I assist you today?'], ['I want to buy an electric car', 'That’s great! Electric cars are an excellent choice for sustainability. Do you have any specific models in mind or features you’re looking for?']]\n",
      "and messages is:\n",
      "[{'role': 'system', 'content': 'You are a helpful assistant.  Please be as kind as possible when you respond and be as succinct as possible.'}, {'role': 'user', 'content': 'Hi there'}, {'role': 'assistant', 'content': 'Hello! How can I assist you today?'}, {'role': 'user', 'content': 'I want to buy an electric car'}, {'role': 'assistant', 'content': 'That’s great! Electric cars are an excellent choice for sustainability. Do you have any specific models in mind or features you’re looking for?'}, {'role': 'user', 'content': \"I don't - trying to figure out a good one that requires minimal maintenance and cost\"}]\n",
      "History is:\n",
      "[['Hi there', 'Hello! How can I assist you today?'], ['I want to buy an electric car', 'That’s great! Electric cars are an excellent choice for sustainability. Do you have any specific models in mind or features you’re looking for?'], [\"I don't - trying to figure out a good one that requires minimal maintenance and cost\", 'Here are a few electric cars known for their reliability and lower maintenance costs:\\n\\n1. **Tesla Model 3** - Popular for its range, performance, and technology.\\n2. **Nissan Leaf** - Affordable and has been on the market for a long time; known for reliability.\\n3. **Hyundai Kona Electric** - Offers a good range and comes with a strong warranty.\\n4. **Kia EV6** - Well-rounded with modern features and a great warranty.\\n5. **Ford Mustang Mach-E** - A stylish option with various configurations and decent range.\\n\\nBe sure to consider factors like range, charging options, and resale value. Would you like more details on any specific model?']]\n",
      "and messages is:\n",
      "[{'role': 'system', 'content': 'You are a helpful assistant.  Please be as kind as possible when you respond and be as succinct as possible.'}, {'role': 'user', 'content': 'Hi there'}, {'role': 'assistant', 'content': 'Hello! How can I assist you today?'}, {'role': 'user', 'content': 'I want to buy an electric car'}, {'role': 'assistant', 'content': 'That’s great! Electric cars are an excellent choice for sustainability. Do you have any specific models in mind or features you’re looking for?'}, {'role': 'user', 'content': \"I don't - trying to figure out a good one that requires minimal maintenance and cost\"}, {'role': 'assistant', 'content': 'Here are a few electric cars known for their reliability and lower maintenance costs:\\n\\n1. **Tesla Model 3** - Popular for its range, performance, and technology.\\n2. **Nissan Leaf** - Affordable and has been on the market for a long time; known for reliability.\\n3. **Hyundai Kona Electric** - Offers a good range and comes with a strong warranty.\\n4. **Kia EV6** - Well-rounded with modern features and a great warranty.\\n5. **Ford Mustang Mach-E** - A stylish option with various configurations and decent range.\\n\\nBe sure to consider factors like range, charging options, and resale value. Would you like more details on any specific model?'}, {'role': 'user', 'content': 'Of the ones you selected, which one would you pick?'}]\n"
     ]
    }
   ],
   "source": [
    "#Gradio magic to create interface\n",
    "gr.ChatInterface(fn=chat).launch()"
   ]
  },
  {
   "cell_type": "code",
   "execution_count": 14,
   "metadata": {},
   "outputs": [],
   "source": [
    "system_message = \"\"\"\n",
    "    You are a helpful assistant in a clothes store.  You should try to gently encourage customers to try items that are on sale.\n",
    "    Hats are 60% off and most other items are 50% off \n",
    "    For example, if the customer says 'I'm looking to buy a hat', you could reply with something like \n",
    "    'Wonderful, we have lots of hats - including several that are part of our sale event.'\n",
    "    Encourage the customer to buy shoes if they are unsure of what to get\"\"\""
   ]
  },
  {
   "cell_type": "code",
   "execution_count": null,
   "metadata": {},
   "outputs": [
    {
     "name": "stderr",
     "output_type": "stream",
     "text": [
      "c:\\Python\\llm_engineering\\llms\\Lib\\site-packages\\gradio\\chat_interface.py:334: UserWarning: The 'tuples' format for chatbot messages is deprecated and will be removed in a future version of Gradio. Please set type='messages' instead, which uses openai-style 'role' and 'content' keys.\n",
      "  self.chatbot = Chatbot(\n"
     ]
    },
    {
     "name": "stdout",
     "output_type": "stream",
     "text": [
      "* Running on local URL:  http://127.0.0.1:7871\n",
      "\n",
      "To create a public link, set `share=True` in `launch()`.\n"
     ]
    },
    {
     "data": {
      "text/html": [
       "<div><iframe src=\"http://127.0.0.1:7871/\" width=\"100%\" height=\"500\" allow=\"autoplay; camera; microphone; clipboard-read; clipboard-write;\" frameborder=\"0\" allowfullscreen></iframe></div>"
      ],
      "text/plain": [
       "<IPython.core.display.HTML object>"
      ]
     },
     "metadata": {},
     "output_type": "display_data"
    },
    {
     "data": {
      "text/plain": []
     },
     "execution_count": 10,
     "metadata": {},
     "output_type": "execute_result"
    },
    {
     "name": "stdout",
     "output_type": "stream",
     "text": [
      "History is:\n",
      "[]\n",
      "and messages is:\n",
      "[{'role': 'system', 'content': \"\\n    You are a helpful assistant in a clothes store.  You should try to gently encourage customers to try items that are on sale.\\n    Hates are 60% off and most other items are 50% off \\n    For example, if the customer says 'I'm looking to buy a hat', you could reply with something like \\n    'Wonderful, we have lots of hates - including several that are part of our sale event.'\\n    Encourage the customer to buy shoes if they are unsure of what to get\"}, {'role': 'user', 'content': 'Hi there'}]\n",
      "History is:\n",
      "[['Hi there', 'Hello! Welcome to our store! How can I assist you today? Are you looking for something specific?']]\n",
      "and messages is:\n",
      "[{'role': 'system', 'content': \"\\n    You are a helpful assistant in a clothes store.  You should try to gently encourage customers to try items that are on sale.\\n    Hates are 60% off and most other items are 50% off \\n    For example, if the customer says 'I'm looking to buy a hat', you could reply with something like \\n    'Wonderful, we have lots of hates - including several that are part of our sale event.'\\n    Encourage the customer to buy shoes if they are unsure of what to get\"}, {'role': 'user', 'content': 'Hi there'}, {'role': 'assistant', 'content': 'Hello! Welcome to our store! How can I assist you today? Are you looking for something specific?'}, {'role': 'user', 'content': \"I'd like to buy some shoes\"}]\n",
      "History is:\n",
      "[]\n",
      "and messages is:\n",
      "[{'role': 'system', 'content': \"\\n    You are a helpful assistant in a clothes store.  You should try to gently encourage customers to try items that are on sale.\\n    Hates are 60% off and most other items are 50% off \\n    For example, if the customer says 'I'm looking to buy a hat', you could reply with something like \\n    'Wonderful, we have lots of hates - including several that are part of our sale event.'\\n    Encourage the customer to buy shoes if they are unsure of what to get\"}, {'role': 'user', 'content': 'Hi there'}]\n",
      "History is:\n",
      "[['Hi there', 'Hello! Welcome to our store! How can I assist you today? Are you looking for something specific?']]\n",
      "and messages is:\n",
      "[{'role': 'system', 'content': \"\\n    You are a helpful assistant in a clothes store.  You should try to gently encourage customers to try items that are on sale.\\n    Hates are 60% off and most other items are 50% off \\n    For example, if the customer says 'I'm looking to buy a hat', you could reply with something like \\n    'Wonderful, we have lots of hates - including several that are part of our sale event.'\\n    Encourage the customer to buy shoes if they are unsure of what to get\"}, {'role': 'user', 'content': 'Hi there'}, {'role': 'assistant', 'content': 'Hello! Welcome to our store! How can I assist you today? Are you looking for something specific?'}, {'role': 'user', 'content': \"I'm looking to buy a new T-shirt\"}]\n"
     ]
    }
   ],
   "source": [
    "gr.ChatInterface(fn=chat).launch()"
   ]
  },
  {
   "cell_type": "code",
   "execution_count": 12,
   "metadata": {},
   "outputs": [],
   "source": [
    "#  Can add in system messages as you go\n",
    "def chat(message,history):\n",
    "    messages = [{\"role\":\"system\",\"content\":system_message}]\n",
    "    for user_message, assistant_message in history:\n",
    "        messages.append({\"role\":\"user\",\"content\":user_message})\n",
    "        messages.append({\"role\":\"assistant\",\"content\":assistant_message})\n",
    "    if 'belt' in message: #added into prompt\n",
    "        messages.append({\"role\":\"system\",\"content\":\"For added context, the store does not sell belts, but be sure to encourage selling of other items.\"})\n",
    "    messages.append({\"role\":\"user\",\"content\":message})\n",
    "    \n",
    "    print(\"History is:\")\n",
    "    print(history)\n",
    "    print(\"and messages is:\")\n",
    "    print(messages)\n",
    "    \n",
    "    stream = openai.chat.completions.create(model=MODEL,messages=messages, stream=True)\n",
    "    \n",
    "    response = \"\" \n",
    "    for chunk in stream:\n",
    "        response += chunk.choices[0].delta.content or ''\n",
    "        yield response\n",
    "    "
   ]
  },
  {
   "cell_type": "code",
   "execution_count": null,
   "metadata": {},
   "outputs": [
    {
     "name": "stderr",
     "output_type": "stream",
     "text": [
      "c:\\Python\\llm_engineering\\llms\\Lib\\site-packages\\gradio\\chat_interface.py:334: UserWarning: The 'tuples' format for chatbot messages is deprecated and will be removed in a future version of Gradio. Please set type='messages' instead, which uses openai-style 'role' and 'content' keys.\n",
      "  self.chatbot = Chatbot(\n"
     ]
    },
    {
     "name": "stdout",
     "output_type": "stream",
     "text": [
      "* Running on local URL:  http://127.0.0.1:7873\n",
      "\n",
      "To create a public link, set `share=True` in `launch()`.\n"
     ]
    },
    {
     "data": {
      "text/html": [
       "<div><iframe src=\"http://127.0.0.1:7873/\" width=\"100%\" height=\"500\" allow=\"autoplay; camera; microphone; clipboard-read; clipboard-write;\" frameborder=\"0\" allowfullscreen></iframe></div>"
      ],
      "text/plain": [
       "<IPython.core.display.HTML object>"
      ]
     },
     "metadata": {},
     "output_type": "display_data"
    },
    {
     "data": {
      "text/plain": []
     },
     "execution_count": 13,
     "metadata": {},
     "output_type": "execute_result"
    },
    {
     "name": "stdout",
     "output_type": "stream",
     "text": [
      "History is:\n",
      "[]\n",
      "and messages is:\n",
      "[{'role': 'system', 'content': \"\\n    You are a helpful assistant in a clothes store.  You should try to gently encourage customers to try items that are on sale.\\n    Hates are 60% off and most other items are 50% off \\n    For example, if the customer says 'I'm looking to buy a hat', you could reply with something like \\n    'Wonderful, we have lots of hates - including several that are part of our sale event.'\\n    Encourage the customer to buy shoes if they are unsure of what to get\"}, {'role': 'user', 'content': 'Hi there'}]\n",
      "History is:\n",
      "[['Hi there', 'Hello! Welcome to our store! How can I assist you today? Are you looking for something in particular?']]\n",
      "and messages is:\n",
      "[{'role': 'system', 'content': \"\\n    You are a helpful assistant in a clothes store.  You should try to gently encourage customers to try items that are on sale.\\n    Hates are 60% off and most other items are 50% off \\n    For example, if the customer says 'I'm looking to buy a hat', you could reply with something like \\n    'Wonderful, we have lots of hates - including several that are part of our sale event.'\\n    Encourage the customer to buy shoes if they are unsure of what to get\"}, {'role': 'user', 'content': 'Hi there'}, {'role': 'assistant', 'content': 'Hello! Welcome to our store! How can I assist you today? Are you looking for something in particular?'}, {'role': 'system', 'content': 'For added context, the store does not sell belts, but be sure to encourage selling of other items.'}, {'role': 'user', 'content': \"I'd like to buy a belt\"}]\n"
     ]
    }
   ],
   "source": [
    "gr.ChatInterface(fn=chat).launch()"
   ]
  }
 ],
 "metadata": {
  "kernelspec": {
   "display_name": "llms",
   "language": "python",
   "name": "llms"
  },
  "language_info": {
   "codemirror_mode": {
    "name": "ipython",
    "version": 3
   },
   "file_extension": ".py",
   "mimetype": "text/x-python",
   "name": "python",
   "nbconvert_exporter": "python",
   "pygments_lexer": "ipython3",
   "version": "3.12.9"
  }
 },
 "nbformat": 4,
 "nbformat_minor": 2
}
